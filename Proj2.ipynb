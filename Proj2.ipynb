{
 "cells": [
  {
   "cell_type": "markdown",
   "id": "ea6a87a6",
   "metadata": {},
   "source": [
    "# PREDICTION OF CAR PRICES "
   ]
  },
  {
   "cell_type": "code",
   "execution_count": 818,
   "id": "dd6ada21",
   "metadata": {},
   "outputs": [],
   "source": [
    "import pandas as pd\n",
    "import numpy as np\n",
    "import seaborn as sns\n",
    "import matplotlib.pyplot as plt\n",
    "from sklearn.linear_model import LinearRegression\n",
    "from sklearn.svm import SVR\n",
    "from sklearn.ensemble import RandomForestRegressor\n",
    "from sklearn.preprocessing import LabelEncoder\n",
    "from sklearn.model_selection import train_test_split\n",
    "from sklearn.metrics import r2_score"
   ]
  },
  {
   "cell_type": "markdown",
   "id": "1fab6f1d",
   "metadata": {},
   "source": [
    "### importing the needed libraries"
   ]
  },
  {
   "cell_type": "code",
   "execution_count": 819,
   "id": "eedfaeb3",
   "metadata": {},
   "outputs": [],
   "source": [
    "df=pd.read_csv('cars_engage_2022.csv') #uploading the dataset and storing it in a dataframe"
   ]
  },
  {
   "cell_type": "code",
   "execution_count": 820,
   "id": "c3eb935e",
   "metadata": {},
   "outputs": [],
   "source": [
    "df      ##creating copies of the dataframe\n",
    "df2=df['Ex-Showroom_Price']\n",
    "df3=df"
   ]
  },
  {
   "cell_type": "code",
   "execution_count": 821,
   "id": "ff5077af",
   "metadata": {},
   "outputs": [
    {
     "data": {
      "text/html": [
       "<div>\n",
       "<style scoped>\n",
       "    .dataframe tbody tr th:only-of-type {\n",
       "        vertical-align: middle;\n",
       "    }\n",
       "\n",
       "    .dataframe tbody tr th {\n",
       "        vertical-align: top;\n",
       "    }\n",
       "\n",
       "    .dataframe thead th {\n",
       "        text-align: right;\n",
       "    }\n",
       "</style>\n",
       "<table border=\"1\" class=\"dataframe\">\n",
       "  <thead>\n",
       "    <tr style=\"text-align: right;\">\n",
       "      <th></th>\n",
       "      <th>Unnamed: 0</th>\n",
       "      <th>Make</th>\n",
       "      <th>Model</th>\n",
       "      <th>Variant</th>\n",
       "      <th>Ex-Showroom_Price</th>\n",
       "      <th>Displacement</th>\n",
       "      <th>Cylinders</th>\n",
       "      <th>Valves_Per_Cylinder</th>\n",
       "      <th>Drivetrain</th>\n",
       "      <th>Cylinder_Configuration</th>\n",
       "      <th>...</th>\n",
       "      <th>Leather_Wrapped_Steering</th>\n",
       "      <th>Automatic_Headlamps</th>\n",
       "      <th>Engine_Type</th>\n",
       "      <th>ASR_/_Traction_Control</th>\n",
       "      <th>Cruise_Control</th>\n",
       "      <th>USB_Ports</th>\n",
       "      <th>Heads-Up_Display</th>\n",
       "      <th>Welcome_Lights</th>\n",
       "      <th>Battery</th>\n",
       "      <th>Electric_Range</th>\n",
       "    </tr>\n",
       "  </thead>\n",
       "  <tbody>\n",
       "    <tr>\n",
       "      <th>0</th>\n",
       "      <td>0</td>\n",
       "      <td>Tata</td>\n",
       "      <td>Nano Genx</td>\n",
       "      <td>Xt</td>\n",
       "      <td>Rs. 2,92,667</td>\n",
       "      <td>624 cc</td>\n",
       "      <td>2.0</td>\n",
       "      <td>2.0</td>\n",
       "      <td>RWD (Rear Wheel Drive)</td>\n",
       "      <td>In-line</td>\n",
       "      <td>...</td>\n",
       "      <td>NaN</td>\n",
       "      <td>NaN</td>\n",
       "      <td>NaN</td>\n",
       "      <td>NaN</td>\n",
       "      <td>NaN</td>\n",
       "      <td>NaN</td>\n",
       "      <td>NaN</td>\n",
       "      <td>NaN</td>\n",
       "      <td>NaN</td>\n",
       "      <td>NaN</td>\n",
       "    </tr>\n",
       "    <tr>\n",
       "      <th>1</th>\n",
       "      <td>1</td>\n",
       "      <td>Tata</td>\n",
       "      <td>Nano Genx</td>\n",
       "      <td>Xe</td>\n",
       "      <td>Rs. 2,36,447</td>\n",
       "      <td>624 cc</td>\n",
       "      <td>2.0</td>\n",
       "      <td>2.0</td>\n",
       "      <td>RWD (Rear Wheel Drive)</td>\n",
       "      <td>In-line</td>\n",
       "      <td>...</td>\n",
       "      <td>NaN</td>\n",
       "      <td>NaN</td>\n",
       "      <td>NaN</td>\n",
       "      <td>NaN</td>\n",
       "      <td>NaN</td>\n",
       "      <td>NaN</td>\n",
       "      <td>NaN</td>\n",
       "      <td>NaN</td>\n",
       "      <td>NaN</td>\n",
       "      <td>NaN</td>\n",
       "    </tr>\n",
       "    <tr>\n",
       "      <th>2</th>\n",
       "      <td>2</td>\n",
       "      <td>Tata</td>\n",
       "      <td>Nano Genx</td>\n",
       "      <td>Emax Xm</td>\n",
       "      <td>Rs. 2,96,661</td>\n",
       "      <td>624 cc</td>\n",
       "      <td>2.0</td>\n",
       "      <td>2.0</td>\n",
       "      <td>RWD (Rear Wheel Drive)</td>\n",
       "      <td>In-line</td>\n",
       "      <td>...</td>\n",
       "      <td>NaN</td>\n",
       "      <td>NaN</td>\n",
       "      <td>NaN</td>\n",
       "      <td>NaN</td>\n",
       "      <td>NaN</td>\n",
       "      <td>NaN</td>\n",
       "      <td>NaN</td>\n",
       "      <td>NaN</td>\n",
       "      <td>NaN</td>\n",
       "      <td>NaN</td>\n",
       "    </tr>\n",
       "    <tr>\n",
       "      <th>3</th>\n",
       "      <td>3</td>\n",
       "      <td>Tata</td>\n",
       "      <td>Nano Genx</td>\n",
       "      <td>Xta</td>\n",
       "      <td>Rs. 3,34,768</td>\n",
       "      <td>624 cc</td>\n",
       "      <td>2.0</td>\n",
       "      <td>2.0</td>\n",
       "      <td>RWD (Rear Wheel Drive)</td>\n",
       "      <td>In-line</td>\n",
       "      <td>...</td>\n",
       "      <td>NaN</td>\n",
       "      <td>NaN</td>\n",
       "      <td>NaN</td>\n",
       "      <td>NaN</td>\n",
       "      <td>NaN</td>\n",
       "      <td>NaN</td>\n",
       "      <td>NaN</td>\n",
       "      <td>NaN</td>\n",
       "      <td>NaN</td>\n",
       "      <td>NaN</td>\n",
       "    </tr>\n",
       "    <tr>\n",
       "      <th>4</th>\n",
       "      <td>4</td>\n",
       "      <td>Tata</td>\n",
       "      <td>Nano Genx</td>\n",
       "      <td>Xm</td>\n",
       "      <td>Rs. 2,72,223</td>\n",
       "      <td>624 cc</td>\n",
       "      <td>2.0</td>\n",
       "      <td>2.0</td>\n",
       "      <td>RWD (Rear Wheel Drive)</td>\n",
       "      <td>In-line</td>\n",
       "      <td>...</td>\n",
       "      <td>NaN</td>\n",
       "      <td>NaN</td>\n",
       "      <td>NaN</td>\n",
       "      <td>NaN</td>\n",
       "      <td>NaN</td>\n",
       "      <td>NaN</td>\n",
       "      <td>NaN</td>\n",
       "      <td>NaN</td>\n",
       "      <td>NaN</td>\n",
       "      <td>NaN</td>\n",
       "    </tr>\n",
       "    <tr>\n",
       "      <th>...</th>\n",
       "      <td>...</td>\n",
       "      <td>...</td>\n",
       "      <td>...</td>\n",
       "      <td>...</td>\n",
       "      <td>...</td>\n",
       "      <td>...</td>\n",
       "      <td>...</td>\n",
       "      <td>...</td>\n",
       "      <td>...</td>\n",
       "      <td>...</td>\n",
       "      <td>...</td>\n",
       "      <td>...</td>\n",
       "      <td>...</td>\n",
       "      <td>...</td>\n",
       "      <td>...</td>\n",
       "      <td>...</td>\n",
       "      <td>...</td>\n",
       "      <td>...</td>\n",
       "      <td>...</td>\n",
       "      <td>...</td>\n",
       "      <td>...</td>\n",
       "    </tr>\n",
       "    <tr>\n",
       "      <th>1271</th>\n",
       "      <td>1271</td>\n",
       "      <td>Honda</td>\n",
       "      <td>City</td>\n",
       "      <td>Vx Mt Diesel</td>\n",
       "      <td>Rs. 13,02,000</td>\n",
       "      <td>1498 cc</td>\n",
       "      <td>4.0</td>\n",
       "      <td>4.0</td>\n",
       "      <td>FWD (Front Wheel Drive)</td>\n",
       "      <td>In-line</td>\n",
       "      <td>...</td>\n",
       "      <td>Yes</td>\n",
       "      <td>NaN</td>\n",
       "      <td>NaN</td>\n",
       "      <td>NaN</td>\n",
       "      <td>Yes</td>\n",
       "      <td>NaN</td>\n",
       "      <td>NaN</td>\n",
       "      <td>NaN</td>\n",
       "      <td>NaN</td>\n",
       "      <td>NaN</td>\n",
       "    </tr>\n",
       "    <tr>\n",
       "      <th>1272</th>\n",
       "      <td>1272</td>\n",
       "      <td>Honda</td>\n",
       "      <td>City</td>\n",
       "      <td>Zx Mt Diesel</td>\n",
       "      <td>Rs. 14,21,000</td>\n",
       "      <td>1498 cc</td>\n",
       "      <td>4.0</td>\n",
       "      <td>4.0</td>\n",
       "      <td>FWD (Front Wheel Drive)</td>\n",
       "      <td>In-line</td>\n",
       "      <td>...</td>\n",
       "      <td>Yes</td>\n",
       "      <td>Yes</td>\n",
       "      <td>NaN</td>\n",
       "      <td>NaN</td>\n",
       "      <td>Yes</td>\n",
       "      <td>NaN</td>\n",
       "      <td>NaN</td>\n",
       "      <td>NaN</td>\n",
       "      <td>NaN</td>\n",
       "      <td>NaN</td>\n",
       "    </tr>\n",
       "    <tr>\n",
       "      <th>1273</th>\n",
       "      <td>1273</td>\n",
       "      <td>Honda</td>\n",
       "      <td>City</td>\n",
       "      <td>Zx Cvt Petrol</td>\n",
       "      <td>Rs. 14,31,000</td>\n",
       "      <td>1497 cc</td>\n",
       "      <td>4.0</td>\n",
       "      <td>4.0</td>\n",
       "      <td>FWD (Front Wheel Drive)</td>\n",
       "      <td>In-line</td>\n",
       "      <td>...</td>\n",
       "      <td>Yes</td>\n",
       "      <td>Yes</td>\n",
       "      <td>NaN</td>\n",
       "      <td>NaN</td>\n",
       "      <td>Yes</td>\n",
       "      <td>NaN</td>\n",
       "      <td>NaN</td>\n",
       "      <td>NaN</td>\n",
       "      <td>NaN</td>\n",
       "      <td>NaN</td>\n",
       "    </tr>\n",
       "    <tr>\n",
       "      <th>1274</th>\n",
       "      <td>1274</td>\n",
       "      <td>Honda</td>\n",
       "      <td>City</td>\n",
       "      <td>V Cvt Petrol</td>\n",
       "      <td>Rs. 12,01,000</td>\n",
       "      <td>1497 cc</td>\n",
       "      <td>4.0</td>\n",
       "      <td>4.0</td>\n",
       "      <td>FWD (Front Wheel Drive)</td>\n",
       "      <td>In-line</td>\n",
       "      <td>...</td>\n",
       "      <td>NaN</td>\n",
       "      <td>NaN</td>\n",
       "      <td>NaN</td>\n",
       "      <td>NaN</td>\n",
       "      <td>Yes</td>\n",
       "      <td>NaN</td>\n",
       "      <td>NaN</td>\n",
       "      <td>NaN</td>\n",
       "      <td>NaN</td>\n",
       "      <td>NaN</td>\n",
       "    </tr>\n",
       "    <tr>\n",
       "      <th>1275</th>\n",
       "      <td>1275</td>\n",
       "      <td>Mitsubishi</td>\n",
       "      <td>Montero</td>\n",
       "      <td>3.2 At</td>\n",
       "      <td>Rs. 68,62,560</td>\n",
       "      <td>3200 cc</td>\n",
       "      <td>4.0</td>\n",
       "      <td>4.0</td>\n",
       "      <td>AWD (All Wheel Drive)</td>\n",
       "      <td>In-line</td>\n",
       "      <td>...</td>\n",
       "      <td>Yes</td>\n",
       "      <td>NaN</td>\n",
       "      <td>NaN</td>\n",
       "      <td>Yes</td>\n",
       "      <td>Yes</td>\n",
       "      <td>NaN</td>\n",
       "      <td>NaN</td>\n",
       "      <td>NaN</td>\n",
       "      <td>NaN</td>\n",
       "      <td>NaN</td>\n",
       "    </tr>\n",
       "  </tbody>\n",
       "</table>\n",
       "<p>1276 rows × 141 columns</p>\n",
       "</div>"
      ],
      "text/plain": [
       "      Unnamed: 0        Make      Model        Variant Ex-Showroom_Price  \\\n",
       "0              0        Tata  Nano Genx             Xt      Rs. 2,92,667   \n",
       "1              1        Tata  Nano Genx             Xe      Rs. 2,36,447   \n",
       "2              2        Tata  Nano Genx        Emax Xm      Rs. 2,96,661   \n",
       "3              3        Tata  Nano Genx            Xta      Rs. 3,34,768   \n",
       "4              4        Tata  Nano Genx             Xm      Rs. 2,72,223   \n",
       "...          ...         ...        ...            ...               ...   \n",
       "1271        1271       Honda       City   Vx Mt Diesel     Rs. 13,02,000   \n",
       "1272        1272       Honda       City   Zx Mt Diesel     Rs. 14,21,000   \n",
       "1273        1273       Honda       City  Zx Cvt Petrol     Rs. 14,31,000   \n",
       "1274        1274       Honda       City   V Cvt Petrol     Rs. 12,01,000   \n",
       "1275        1275  Mitsubishi    Montero         3.2 At     Rs. 68,62,560   \n",
       "\n",
       "     Displacement  Cylinders  Valves_Per_Cylinder               Drivetrain  \\\n",
       "0          624 cc        2.0                  2.0   RWD (Rear Wheel Drive)   \n",
       "1          624 cc        2.0                  2.0   RWD (Rear Wheel Drive)   \n",
       "2          624 cc        2.0                  2.0   RWD (Rear Wheel Drive)   \n",
       "3          624 cc        2.0                  2.0   RWD (Rear Wheel Drive)   \n",
       "4          624 cc        2.0                  2.0   RWD (Rear Wheel Drive)   \n",
       "...           ...        ...                  ...                      ...   \n",
       "1271      1498 cc        4.0                  4.0  FWD (Front Wheel Drive)   \n",
       "1272      1498 cc        4.0                  4.0  FWD (Front Wheel Drive)   \n",
       "1273      1497 cc        4.0                  4.0  FWD (Front Wheel Drive)   \n",
       "1274      1497 cc        4.0                  4.0  FWD (Front Wheel Drive)   \n",
       "1275      3200 cc        4.0                  4.0    AWD (All Wheel Drive)   \n",
       "\n",
       "     Cylinder_Configuration  ... Leather_Wrapped_Steering Automatic_Headlamps  \\\n",
       "0                   In-line  ...                      NaN                 NaN   \n",
       "1                   In-line  ...                      NaN                 NaN   \n",
       "2                   In-line  ...                      NaN                 NaN   \n",
       "3                   In-line  ...                      NaN                 NaN   \n",
       "4                   In-line  ...                      NaN                 NaN   \n",
       "...                     ...  ...                      ...                 ...   \n",
       "1271                In-line  ...                      Yes                 NaN   \n",
       "1272                In-line  ...                      Yes                 Yes   \n",
       "1273                In-line  ...                      Yes                 Yes   \n",
       "1274                In-line  ...                      NaN                 NaN   \n",
       "1275                In-line  ...                      Yes                 NaN   \n",
       "\n",
       "     Engine_Type ASR_/_Traction_Control Cruise_Control USB_Ports  \\\n",
       "0            NaN                    NaN            NaN       NaN   \n",
       "1            NaN                    NaN            NaN       NaN   \n",
       "2            NaN                    NaN            NaN       NaN   \n",
       "3            NaN                    NaN            NaN       NaN   \n",
       "4            NaN                    NaN            NaN       NaN   \n",
       "...          ...                    ...            ...       ...   \n",
       "1271         NaN                    NaN            Yes       NaN   \n",
       "1272         NaN                    NaN            Yes       NaN   \n",
       "1273         NaN                    NaN            Yes       NaN   \n",
       "1274         NaN                    NaN            Yes       NaN   \n",
       "1275         NaN                    Yes            Yes       NaN   \n",
       "\n",
       "     Heads-Up_Display Welcome_Lights Battery  Electric_Range  \n",
       "0                 NaN            NaN     NaN             NaN  \n",
       "1                 NaN            NaN     NaN             NaN  \n",
       "2                 NaN            NaN     NaN             NaN  \n",
       "3                 NaN            NaN     NaN             NaN  \n",
       "4                 NaN            NaN     NaN             NaN  \n",
       "...               ...            ...     ...             ...  \n",
       "1271              NaN            NaN     NaN             NaN  \n",
       "1272              NaN            NaN     NaN             NaN  \n",
       "1273              NaN            NaN     NaN             NaN  \n",
       "1274              NaN            NaN     NaN             NaN  \n",
       "1275              NaN            NaN     NaN             NaN  \n",
       "\n",
       "[1276 rows x 141 columns]"
      ]
     },
     "execution_count": 821,
     "metadata": {},
     "output_type": "execute_result"
    }
   ],
   "source": [
    "df"
   ]
  },
  {
   "cell_type": "code",
   "execution_count": 822,
   "id": "4cac5b32",
   "metadata": {},
   "outputs": [],
   "source": [
    "#creating a list of categorical columns so we can label encode them later and a list of columns we need to fit to predict data\n",
    "cat_col=['Make','Drivetrain','Cylinder_Configuration','Emission_Norm','Engine_Location','Fuel_Type','Fuel_System','Body_Type','Front_Brakes','Rear_Brakes','Front_Suspension',\n",
    "'Rear_Suspension','Front_Tyre_&_Rim','Rear_Tyre_&_Rim','Power_Steering',\n",
    "'Power_Windows','Power_Seats','Keyless_Entry','Power','Torque','Odometer',\n",
    "'Speedometer','Tachometer','Tripmeter','Seats_Material','Type','Wheels_Size',\n",
    "'Start_/_Stop_Button','12v_Power_Outlet','Audiosystem','Aux-in_Compatibility',\n",
    "'Average_Fuel_Consumption','Basic_Warranty','Bluetooth','Boot-lid_Opener','CD_/_MP3_/_DVD_Player',\n",
    "'Central_Locking','Child_Safety_Locks','Clock','Cup_Holders','Distance_to_Empty',\n",
    "'Door_Pockets','Engine_Malfunction_Light','Extended_Warranty','FM_Radio','Fuel-lid_Opener',\n",
    "'Fuel_Gauge','Handbrake','Instrument_Console','Low_Fuel_Warning','Multifunction_Display',\n",
    "'Sun_Visor','Third_Row_AC_Vents','Ventilation_System','Drive_Modes','Auto-Dimming_Rear-View_Mirror','Hill_Assist','Gear_Indicator',               '3_Point_Seat-Belt_in_Middle_Rear_Seat','Ambient_Lightning','Cargo/Boot_Lights','Drive_Modes','Engine_Immobilizer',\n",
    "  'High_Speed_Alert_System','Lane_Watch_Camera/_Side_Mirror_Camera',\n",
    "'Passenger_Side_Seat-Belt_Reminder','Seat_Back_Pockets','Voice_Recognition',\n",
    "'Walk_Away_Auto_Car_Lock','ABS_(Anti-lock_Braking_System)','Headlight_Reminder','Adjustable_Headrests',\n",
    "     'Gross_Vehicle_Weight','Airbags','Door_Ajar_Warning','EBD_(Electronic_Brake-force_Distribution)','Fasten_Seat_Belt_Warning','Gear_Shift_Reminder','Adjustable_Steering_Column','Other_Specs',\n",
    "'Parking_Assistance','Key_Off_Reminder','USB_Compatibility','Android_Auto','Apple_CarPlay',\n",
    "'Cigarette_Lighter','Infotainment_Screen','Multifunction_Steering_Wheel','Average_Speed',\n",
    "  'EBA_(Electronic_Brake_Assist)','Seat_Height_Adjustment','Navigation_System','Second_Row_AC_Vents',\"\"               'Tyre_Pressure_Monitoring_System','Rear_Center_Armrest','iPod_Compatibility','ESP_(Electronic_Stability_Program)','Cooled_Glove_Box','Heated_Seats','Turbocharger','ISOFIX_(Child-Seat_Mount)','Rain_Sensing_Wipers',\n",
    "'Paddle_Shifters','Leather_Wrapped_Steering','Automatic_Headlamps','Engine_Type','ASR_/_Traction_Control',\n",
    "'Cruise_Control','Heads-Up_Display','Welcome_Lights']  \n",
    "pred_col= ['Make','Model','Variant','Drivetrain','Cylinder_Configuration','Emission_Norm','Engine_Location','Fuel_System','Fuel_Type','Body_Type',\n",
    "'Front_Brakes','Rear_Brakes','Front_Suspension','Rear_Suspension',\n",
    "'Front_Tyre_&_Rim','Rear_Tyre_&_Rim','Power_Steering','Power_Windows','Power','Torque','Odometer','Speedometer','Tachometer','Seats_Material','Type','Wheels_Size',\n",
    "'Audiosystem','Basic_Warranty','Boot-lid_Opener','Clock','Cup_Holders','Door_Pockets',\n",
    "'Extended_Warranty','Fuel-lid_Opener','Fuel_Gauge','Handbrake','Instrument_Console','Sun_Visor',\n",
    "'Third_Row_AC_Vents','Ventilation_System','Adjustable_Headrests','Airbags','Adjustable_Steering_Column',\n",
    "'Other_Specs','Other_specs','Parking_Assistance','Infotainment_Screen','Multifunction_Steering_Wheel',\n",
    "'Seat_Height_Adjustment','Rear_Center_Armrest','Recommended_Tyre_Pressure','Heated_Seats','Engine_Type','Drive_Modes']\n",
    "         "
   ]
  },
  {
   "cell_type": "code",
   "execution_count": 928,
   "id": "c6eb0abb",
   "metadata": {},
   "outputs": [],
   "source": [
    "units={'mm_col':  ['Height','Length','Width','Ground_Clearance','Front_Track','Rear_Track','Wheelbase'],\n",
    "'litre_col': ['Fuel_Tank_Capacity','Boot_Space'],\n",
    "'km_per_litre_col':['City_Mileage','Highway_Mileage','ARAI_Certified_Mileage'],\n",
    "'kilogram_col':['Kerb_Weight','Gross_Vehicle_Weight'],\n",
    "'dim_less_col':['Gears','Compression_Ratio','USB_Ports']\n",
    "}"
   ]
  },
  {
   "cell_type": "markdown",
   "id": "077b09a5",
   "metadata": {},
   "source": [
    "## cleaning data by filling in the missing values"
   ]
  },
  {
   "cell_type": "code",
   "execution_count": 824,
   "id": "598f4ad2",
   "metadata": {},
   "outputs": [],
   "source": [
    "for col in cat_col:\n",
    " df3[col]=df3[col].fillna('unknown')"
   ]
  },
  {
   "cell_type": "code",
   "execution_count": 825,
   "id": "bb94cbc9",
   "metadata": {},
   "outputs": [],
   "source": [
    "mean_col=['Cylinders','Valves_Per_Cylinder','Fuel_Tank_Capacity',\n",
    "'Height','Width','City_Mileage','Highway_Mileage','ARAI_Certified_Mileage','ARAI_Certified_Mileage_for_CNG','Kerb_Weight','Gears','Ground_Clearance',\n",
    "'Front_Track','Rear_Track','Wheelbase',\n",
    "'Boot_Space','Minimum_Turning_Radius','Gross_Vehicle_Weight',\n",
    "'Compression_Ratio','USB_Ports','Battery','Electric_Range','Ex-Showroom_Price','Displacement'\n",
    "]\n",
    "median_col=['Cylinders','Doors','Seating_Capacity','Number_of_Airbags' ]"
   ]
  },
  {
   "cell_type": "markdown",
   "id": "e7aae420",
   "metadata": {},
   "source": [
    "## Cleaning data by removing the units and converting string type data to numeric type "
   ]
  },
  {
   "cell_type": "code",
   "execution_count": 826,
   "id": "63e7ddc6",
   "metadata": {},
   "outputs": [
    {
     "name": "stderr",
     "output_type": "stream",
     "text": [
      "C:\\Users\\abbas\\AppData\\Local\\Temp/ipykernel_372528/2003890869.py:15: FutureWarning: The default value of regex will change from True to False in a future version.\n",
      "  df3['Ex-Showroom_Price']=df3['Ex-Showroom_Price'].str.replace(\"Rs.\",\"\").str.replace(\",\",\"\")\n",
      "C:\\Users\\abbas\\AppData\\Local\\Temp/ipykernel_372528/2003890869.py:25: FutureWarning: The default value of regex will change from True to False in a future version.\n",
      "  df3['Battery']=df3['Battery'].str.replace(\"ampere-hour\",\"\").str.replace(\"kWh,Battery Placed Under Rear Seats\",\"\").str.replace(\"(kWh), Lithium Ion\",\"\").str.replace(\" kWh* Advanced Li-ion polymer, liquid cooled battery pack with IP67 certification\",\"\").str.replace(\"\",\"\").str.replace(\"(kWh), Lithium Ion\",\"\")\n"
     ]
    }
   ],
   "source": [
    "for col in units['mm_col']:\n",
    "  df3[col]=df3[col].str.replace(\"mm\",\"\")\n",
    "  df3[col]=pd.to_numeric(df3[col],errors='coerce')\n",
    "for col in units['litre_col']:\n",
    "  df3[col]=df3[col].str.replace(\"litres\",\"\")\n",
    "  df3[col]=pd.to_numeric(df3[col],errors='coerce')    \n",
    "for col in units['km_per_litre_col']:\n",
    "  df3[col]=df3[col].str.replace(\"km/litre\",\"\")\n",
    "  df3[col]=pd.to_numeric(df3[col],errors='coerce')\n",
    "for col in units['kilogram_col']:\n",
    "  df3[col]=df3[col].str.replace(\"kg\",\"\")\n",
    "  df3[col]=pd.to_numeric(df[col],errors='coerce')\n",
    "for col in units['dim_less_col']:\n",
    "  df3[col]=pd.to_numeric(df3[col],errors='coerce')\n",
    "df3['Ex-Showroom_Price']=df3['Ex-Showroom_Price'].str.replace(\"Rs.\",\"\").str.replace(\",\",\"\")\n",
    "df3['Ex-Showroom_Price']=pd.to_numeric(df3['Ex-Showroom_Price'],errors='coerce')\n",
    "df3['Displacement']=df3['Displacement'].str.replace(\"cc\",\"\")\n",
    "df3['Displacement']=pd.to_numeric(df3['Displacement'],errors='coerce')\n",
    "df3['ARAI_Certified_Mileage_for_CNG']=df3['ARAI_Certified_Mileage_for_CNG'].str.replace(\"km/kg\",\"\")\n",
    "df3['ARAI_Certified_Mileage_for_CNG']=pd.to_numeric(df3['ARAI_Certified_Mileage_for_CNG'],errors='coerce')\n",
    "df3['Minimum_Turning_Radius']=df3['Minimum_Turning_Radius'].str.replace(\"meter\",\"\")\n",
    "df3['Minimum_Turning_Radius']=pd.to_numeric(df3['Minimum_Turning_Radius'],errors='coerce')\n",
    "df3['Electric_Range']=df3['Electric_Range'].str.replace(\"km/full charge\",\"\")\n",
    "df3['Electric_Range']=pd.to_numeric(df3['Electric_Range'],errors='coerce')\n",
    "df3['Battery']=df3['Battery'].str.replace(\"ampere-hour\",\"\").str.replace(\"kWh,Battery Placed Under Rear Seats\",\"\").str.replace(\"(kWh), Lithium Ion\",\"\").str.replace(\" kWh* Advanced Li-ion polymer, liquid cooled battery pack with IP67 certification\",\"\").str.replace(\"\",\"\").str.replace(\"(kWh), Lithium Ion\",\"\")\n",
    "df3['Battery']=pd.to_numeric(df3['Battery'],errors='coerce')\n"
   ]
  },
  {
   "cell_type": "code",
   "execution_count": 827,
   "id": "b676f44b",
   "metadata": {},
   "outputs": [],
   "source": [
    "#replacing the missing values for numeric columns by either mean or median of their values\n",
    "for col in mean_col:\n",
    "  df3[col]=df[col].fillna(df3[col].mean())\n",
    "for col in median_col:\n",
    "  df3[col]=df3[col].fillna(df3[col].median())"
   ]
  },
  {
   "cell_type": "code",
   "execution_count": 828,
   "id": "3cc5a17c",
   "metadata": {},
   "outputs": [],
   "source": [
    "lab_col=['Tripmeter','Start_/_Stop_Button','12v_Power_Outlet','Aux-in_Compatibility','Average_Fuel_Consumption',\n",
    "'Bluetooth','CD_/_MP3_/_DVD_Player','Central_Locking',\n",
    "        'Child_Safety_Locks','Distance_to_Empty','Engine_Malfunction_Light','FM_Radio','Low_Fuel_Warning','Multifunction_Display',\n",
    "'Auto-Dimming_Rear-View_Mirror','Hill_Assist','Gear_Indicator','3_Point_Seat-Belt_in_Middle_Rear_Seat','Ambient_Lightning','Cargo/Boot_Lights',\n",
    "'Engine_Immobilizer','High_Speed_Alert_System','Lane_Watch_Camera/_Side_Mirror_Camera',\n",
    "'Passenger_Side_Seat-Belt_Reminder','Seat_Back_Pockets','Voice_Recognition',\n",
    "'Walk_Away_Auto_Car_Lock','ABS_(Anti-lock_Braking_System)','Headlight_Reminder','Door_Ajar_Warning','EBD_(Electronic_Brake-force_Distribution)','Fasten_Seat_Belt_Warning','Gear_Shift_Reminder','Key_Off_Reminder','USB_Compatibility','Android_Auto','Apple_CarPlay',\n",
    "        'Cigarette_Lighter','Average_Speed','EBA_(Electronic_Brake_Assist)','Navigation_System','Second_Row_AC_Vents',\n",
    "  'Tyre_Pressure_Monitoring_System','iPod_Compatibility','ESP_(Electronic_Stability_Program)','Cooled_Glove_Box',\n",
    "'Turbocharger','ISOFIX_(Child-Seat_Mount)','Rain_Sensing_Wipers','Paddle_Shifters',\n",
    "        'Leather_Wrapped_Steering','Automatic_Headlamps','ASR_/_Traction_Control','Cruise_Control',\n",
    "'Heads-Up_Display','Welcome_Lights','Power_Seats','Keyless_Entry'\n",
    "        ]\n",
    "#list of columns to be label encoded"
   ]
  },
  {
   "cell_type": "code",
   "execution_count": 829,
   "id": "c9f39083",
   "metadata": {},
   "outputs": [],
   "source": [
    "df2=df3['Ex-Showroom_Price'] #this data frame stores the training value for the variable to be predicted"
   ]
  },
  {
   "cell_type": "code",
   "execution_count": 830,
   "id": "771c7fd4",
   "metadata": {},
   "outputs": [],
   "source": [
    "df3= pd.get_dummies(df3,columns=pred_col)"
   ]
  },
  {
   "cell_type": "code",
   "execution_count": 831,
   "id": "d610baac",
   "metadata": {},
   "outputs": [],
   "source": [
    "le=LabelEncoder()\n",
    "for col in lab_col:\n",
    "  df3[col]=le.fit_transform(df3[col])"
   ]
  },
  {
   "cell_type": "markdown",
   "id": "e533f8f0",
   "metadata": {},
   "source": [
    "# Test train data split"
   ]
  },
  {
   "cell_type": "code",
   "execution_count": 832,
   "id": "1b232015",
   "metadata": {},
   "outputs": [],
   "source": [
    "x_train, x_test, y_train, y_test = train_test_split(x,y,test_size=0.3,random_state=1)"
   ]
  },
  {
   "cell_type": "markdown",
   "id": "f489def6",
   "metadata": {},
   "source": [
    "# Fitting the models"
   ]
  },
  {
   "cell_type": "code",
   "execution_count": 833,
   "id": "41b28c91",
   "metadata": {},
   "outputs": [
    {
     "data": {
      "text/plain": [
       "LinearRegression()"
      ]
     },
     "execution_count": 833,
     "metadata": {},
     "output_type": "execute_result"
    }
   ],
   "source": [
    "lr=LinearRegression()\n",
    "\n",
    "lr.fit(x_train,y_train)"
   ]
  },
  {
   "cell_type": "code",
   "execution_count": 834,
   "id": "f3cbc9c6",
   "metadata": {},
   "outputs": [
    {
     "data": {
      "text/plain": [
       "DecisionTreeRegressor()"
      ]
     },
     "execution_count": 834,
     "metadata": {},
     "output_type": "execute_result"
    }
   ],
   "source": [
    "from sklearn.tree import DecisionTreeRegressor\n",
    "dt=DecisionTreeRegressor()\n",
    "dt.fit(x_train,y_train)"
   ]
  },
  {
   "cell_type": "code",
   "execution_count": 835,
   "id": "b00dff56",
   "metadata": {},
   "outputs": [
    {
     "data": {
      "text/plain": [
       "RandomForestRegressor(n_estimators=15, random_state=0)"
      ]
     },
     "execution_count": 835,
     "metadata": {},
     "output_type": "execute_result"
    }
   ],
   "source": [
    "rfr=RandomForestRegressor(n_estimators= 15, random_state=0)\n",
    "rfr.fit(x_train,y_train)"
   ]
  },
  {
   "cell_type": "markdown",
   "id": "d470277b",
   "metadata": {},
   "source": [
    "## Checking accuracy of the predicted values of the various models\n"
   ]
  },
  {
   "cell_type": "code",
   "execution_count": 836,
   "id": "b7c8fc88",
   "metadata": {},
   "outputs": [],
   "source": [
    "LRpred=lr.predict(x_test) #LINEAR REGRESSION MODEL"
   ]
  },
  {
   "cell_type": "code",
   "execution_count": 837,
   "id": "516ae5c1",
   "metadata": {},
   "outputs": [
    {
     "data": {
      "text/plain": [
       "1.0"
      ]
     },
     "execution_count": 837,
     "metadata": {},
     "output_type": "execute_result"
    }
   ],
   "source": [
    "r2_score(y_test,LRpred)"
   ]
  },
  {
   "cell_type": "code",
   "execution_count": 838,
   "id": "9f1b1deb",
   "metadata": {},
   "outputs": [],
   "source": [
    "#SVM MODEL"
   ]
  },
  {
   "cell_type": "code",
   "execution_count": 839,
   "id": "8367d950",
   "metadata": {},
   "outputs": [
    {
     "data": {
      "text/plain": [
       "SVR()"
      ]
     },
     "execution_count": 839,
     "metadata": {},
     "output_type": "execute_result"
    }
   ],
   "source": [
    "sr=SVR(kernel='rbf')\n",
    "sr.fit(x_train,y_train)"
   ]
  },
  {
   "cell_type": "code",
   "execution_count": 840,
   "id": "4782c7c4",
   "metadata": {},
   "outputs": [
    {
     "data": {
      "text/plain": [
       "-0.09075850761521109"
      ]
     },
     "execution_count": 840,
     "metadata": {},
     "output_type": "execute_result"
    }
   ],
   "source": [
    "SRpred=sr.predict(x_test)\n",
    "r2_score(y_test,SRpred)"
   ]
  },
  {
   "cell_type": "code",
   "execution_count": 841,
   "id": "fbf8d21a",
   "metadata": {},
   "outputs": [],
   "source": [
    "#DECISION TREE MODEL"
   ]
  },
  {
   "cell_type": "code",
   "execution_count": 842,
   "id": "095cd3b2",
   "metadata": {},
   "outputs": [
    {
     "data": {
      "text/plain": [
       "0.7595337980804938"
      ]
     },
     "execution_count": 842,
     "metadata": {},
     "output_type": "execute_result"
    }
   ],
   "source": [
    "DTpred=dt.predict(x_test)\n",
    "r2_score(y_test,DTpred)"
   ]
  },
  {
   "cell_type": "code",
   "execution_count": 843,
   "id": "42e8b537",
   "metadata": {},
   "outputs": [
    {
     "data": {
      "text/plain": [
       "0.9265313920061158"
      ]
     },
     "execution_count": 843,
     "metadata": {},
     "output_type": "execute_result"
    }
   ],
   "source": [
    "RFRpred=rfr.predict(x_test) #RANDOM FOREST MODEL\n",
    "r2_score(y_test,RFRpred)"
   ]
  },
  {
   "cell_type": "markdown",
   "id": "3a309666",
   "metadata": {},
   "source": [
    "# PLOTTING ACTUAL VS PREDICTED VALUES"
   ]
  },
  {
   "cell_type": "markdown",
   "id": "94c9f4fa",
   "metadata": {},
   "source": [
    "## linear regression\n"
   ]
  },
  {
   "cell_type": "markdown",
   "id": "860619af",
   "metadata": {},
   "source": [
    "#### scatter plot"
   ]
  },
  {
   "cell_type": "code",
   "execution_count": 854,
   "id": "f3ad91ec",
   "metadata": {},
   "outputs": [
    {
     "data": {
      "text/plain": [
       "(0.0, 30000000.0)"
      ]
     },
     "execution_count": 854,
     "metadata": {},
     "output_type": "execute_result"
    },
    {
     "data": {
      "image/png": "[encoded data removed]",
      "text/plain": [
       "<Figure size 432x288 with 1 Axes>"
      ]
     },
     "metadata": {
      "needs_background": "light"
     },
     "output_type": "display_data"
    }
   ],
   "source": [
    "plt.scatter(LRpred,y_test,color='red')\n",
    "plt.xlabel('actual value')\n",
    "plt.ylabel('predicted value')\n",
    "plt.title('Model Results visualisation')\n",
    "plt.ylim(0,30000000)\n",
    "plt.xlim(0,30000000)\n",
    "#plt.plot(range(20000), range(20000))"
   ]
  },
  {
   "cell_type": "markdown",
   "id": "12576475",
   "metadata": {},
   "source": [
    "# REG PLOT"
   ]
  },
  {
   "cell_type": "code",
   "execution_count": 860,
   "id": "2c09f624",
   "metadata": {},
   "outputs": [
    {
     "data": {
      "text/plain": [
       "(0.0, 30000000.0)"
      ]
     },
     "execution_count": 860,
     "metadata": {},
     "output_type": "execute_result"
    },
    {
     "data": {
      "image/png": "[encoded data removed]",
      "text/plain": [
       "<Figure size 360x360 with 1 Axes>"
      ]
     },
     "metadata": {},
     "output_type": "display_data"
    }
   ],
   "source": [
    "fig, ax = plt.subplots(figsize=(5,5), ncols=1, nrows=1) # get the figure and axes objects \n",
    "fig.patch.set_alpha(1)\n",
    "ax.set_title(\"actual vs pred reg plot\", fontsize=16)\n",
    "ax.patch.set_alpha(0)\n",
    "gax=sns.regplot(x= LRpred, y= y_test,data=col,color='b')\n",
    "gax.set_ylabel('Predicted',fontsize=14 )\n",
    "gax.set_xlabel('Actual value',fontsize=14)\n",
    "#gax.set_xticklabels(gax9.get_xticklabels(), rotation=90)\n",
    "gax.set_ylim(0,30000000)\n",
    "gax.set_xlim(0,30000000)"
   ]
  },
  {
   "cell_type": "markdown",
   "id": "5015dd02",
   "metadata": {},
   "source": [
    "## SVM"
   ]
  },
  {
   "cell_type": "code",
   "execution_count": 919,
   "id": "00834f78",
   "metadata": {},
   "outputs": [
    {
     "data": {
      "text/plain": [
       "Text(0.5, 1.0, 'model results visualisation')"
      ]
     },
     "execution_count": 919,
     "metadata": {},
     "output_type": "execute_result"
    },
    {
     "data": {
      "image/png": "[encoded data removed]",
      "text/plain": [
       "<Figure size 432x288 with 1 Axes>"
      ]
     },
     "metadata": {
      "needs_background": "light"
     },
     "output_type": "display_data"
    }
   ],
   "source": [
    "# scatter plot\n",
    "plt.scatter(SRpred,y_test,color='red')\n",
    "  \n",
    "plt.xlabel('actual value')\n",
    "plt.ylabel('SVM model prediction')\n",
    "plt.title('model results visualisation')\n"
   ]
  },
  {
   "cell_type": "code",
   "execution_count": 920,
   "id": "18bcd656",
   "metadata": {},
   "outputs": [
    {
     "data": {
      "text/plain": [
       "(0.0, 30000000.0)"
      ]
     },
     "execution_count": 920,
     "metadata": {},
     "output_type": "execute_result"
    },
    {
     "data": {
      "image/png": "[encoded data removed]",
      "text/plain": [
       "<Figure size 360x360 with 1 Axes>"
      ]
     },
     "metadata": {},
     "output_type": "display_data"
    }
   ],
   "source": [
    "#reg plot\n",
    "fig, ax = plt.subplots(figsize=(5,5), ncols=1, nrows=1) # get the figure and axes objects \n",
    "\n",
    "fig.patch.set_alpha(1)\n",
    "ax.set_title(\"actual vs pred value Reg plot\", fontsize=16)\n",
    "ax.patch.set_alpha(0)\n",
    "\n",
    "gax=sns.regplot(x= SRpred, y= y_test,data=col,color='b')\n",
    "gax.set_ylabel('Predicted',fontsize=14 )\n",
    "gax.set_xlabel('Actual Value',fontsize=14)\n",
    "#gax.set_xticklabels(gax9.get_xticklabels(), rotation=90)\n",
    "gax.set_ylim(0,30000000)"
   ]
  },
  {
   "cell_type": "code",
   "execution_count": 902,
   "id": "b43611f0",
   "metadata": {},
   "outputs": [
    {
     "data": {
      "text/plain": [
       "Text(0.5, 1.0, 'model results visualisation')"
      ]
     },
     "execution_count": 902,
     "metadata": {},
     "output_type": "execute_result"
    },
    {
     "data": {
      "image/png": "[encoded data removed]",
      "text/plain": [
       "<Figure size 432x288 with 1 Axes>"
      ]
     },
     "metadata": {
      "needs_background": "light"
     },
     "output_type": "display_data"
    }
   ],
   "source": [
    "# DECISION TREE SCATTER PLOT\n",
    "plt.scatter(DTpred,y_test,color='red')\n",
    "  \n",
    "plt.xlabel('actual value')\n",
    "plt.ylabel('decision tree regression prediction')\n",
    "plt.title('model results visualisation')\n",
    "#plt.ylim(0,10000000)\n",
    "#plt.xlim(0,10000000)"
   ]
  },
  {
   "cell_type": "code",
   "execution_count": 918,
   "id": "8a9ae119",
   "metadata": {},
   "outputs": [
    {
     "data": {
      "text/plain": [
       "(0.0, 10000000.0)"
      ]
     },
     "execution_count": 918,
     "metadata": {},
     "output_type": "execute_result"
    },
    {
     "data": {
      "image/png": "[encoded data removed]",
      "text/plain": [
       "<Figure size 360x360 with 1 Axes>"
      ]
     },
     "metadata": {},
     "output_type": "display_data"
    }
   ],
   "source": [
    "fig, ax = plt.subplots(figsize=(5,5), ncols=1, nrows=1) # get the figure and axes objects \n",
    "\n",
    "fig.patch.set_alpha(1)\n",
    "ax.set_title(\"actual vs pred Decision Tree Model\", fontsize=16)\n",
    "ax.patch.set_alpha(0)\n",
    "\n",
    "gax=sns.regplot(x= DTpred, y= y_test,data=col,color='b')\n",
    "gax.set_ylabel('Predicted',fontsize=14 )\n",
    "gax.set_xlabel('Actual value',fontsize=14)\n",
    "#gax.set_xticklabels(gax9.get_xticklabels(), rotation=90)\n",
    "gax.set_ylim(0,10000000)\n",
    "gax.set_xlim(0,10000000)"
   ]
  },
  {
   "cell_type": "code",
   "execution_count": 850,
   "id": "bdbb539b",
   "metadata": {},
   "outputs": [
    {
     "data": {
      "image/png": "[encoded data removed]",
      "text/plain": [
       "<Figure size 432x288 with 1 Axes>"
      ]
     },
     "metadata": {
      "needs_background": "light"
     },
     "output_type": "display_data"
    }
   ],
   "source": [
    "# Random Forest Scatter plot\n",
    "\n",
    "plt.scatter(RFRpred,y_test,color='red')\n",
    "  \n",
    "plt.xlabel('actual value')\n",
    "plt.ylabel('random forest regression prediction')\n",
    "plt.title('model results visualisation')\n",
    "plt.show()"
   ]
  },
  {
   "cell_type": "code",
   "execution_count": 927,
   "id": "fb13a0ef",
   "metadata": {},
   "outputs": [
    {
     "data": {
      "text/plain": [
       "(0.0, 100000000.0)"
      ]
     },
     "execution_count": 927,
     "metadata": {},
     "output_type": "execute_result"
    },
    {
     "data": {
      "image/png": "[encoded data removed]",
      "text/plain": [
       "<Figure size 360x360 with 1 Axes>"
      ]
     },
     "metadata": {},
     "output_type": "display_data"
    }
   ],
   "source": [
    "fig, ax = plt.subplots(figsize=(5,5), ncols=1, nrows=1) # get the figure and axes objects \n",
    "\n",
    "fig.patch.set_alpha(1)\n",
    "ax.set_title(\"actual vs pred Random Forest Reg plot\", fontsize=16)\n",
    "ax.patch.set_alpha(0)\n",
    "\n",
    "gax=sns.regplot(x= RFRpred, y= y_test,data=col,color='b')\n",
    "gax.set_ylabel('Predicted',fontsize=14 )\n",
    "gax.set_xlabel('Actual Value',fontsize=14)\n",
    "#gax.set_xticklabels(gax9.get_xticklabels(), rotation=90)\n",
    "gax.set_ylim(0,100000000)\n",
    "gax.set_xlim(0,100000000)"
   ]
  }
 ],
 "metadata": {
  "kernelspec": {
   "display_name": "Python 3 (ipykernel)",
   "language": "python",
   "name": "python3"
  },
  "language_info": {
   "codemirror_mode": {
    "name": "ipython",
    "version": 3
   },
   "file_extension": ".py",
   "mimetype": "text/x-python",
   "name": "python",
   "nbconvert_exporter": "python",
   "pygments_lexer": "ipython3",
   "version": "3.9.7"
  }
 },
 "nbformat": 4,
 "nbformat_minor": 5
}
